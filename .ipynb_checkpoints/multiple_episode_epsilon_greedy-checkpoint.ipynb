{
 "cells": [
  {
   "cell_type": "code",
   "execution_count": null,
   "id": "2b490547",
   "metadata": {},
   "outputs": [
    {
     "name": "stdout",
     "output_type": "stream",
     "text": [
      "Episode (50/1000)\n"
     ]
    }
   ],
   "source": [
    "import numpy as np\n",
    "import matplotlib.pyplot as plt\n",
    "\n",
    "\n",
    "k = 10\n",
    "\n",
    "episodes_num = 1000\n",
    "T = 2000\n",
    "selected_actions = np.zeros((episodes_num, T), dtype=np.int64)\n",
    "received_rewards = np.zeros((episodes_num, T))\n",
    "optimal_actions = np.zeros(episodes_num)\n",
    "optimal_action_percent = np.zeros((episodes_num, T))\n",
    "\n",
    "epsilon = 0.1\n",
    "\n",
    "\n",
    "for episode in range(episodes_num):\n",
    "    qs = np.random.randn(k)\n",
    "    optimal_actions[episode] = np.argmax(qs)\n",
    "    \n",
    "    Q = np.zeros(k)\n",
    "    actions_counters = np.zeros(k)\n",
    "    \n",
    "    for t in range(T):\n",
    "        selected_actions[episode, t] = np.random.choice(np.where(Q == Q.max())[0]) if np.random.rand() > epsilon else np.random.randint(low=0, high=k)\n",
    "        received_rewards[episode, t] = qs[selected_actions[episode, t]] + np.random.randn()\n",
    "        actions_counters[selected_actions[episode, t]] += 1\n",
    "\n",
    "        Q[selected_actions[episode, t]] += (received_rewards[episode, t] - Q[selected_actions[episode, t]]) / actions_counters[selected_actions[episode, t]]\n",
    "    \n",
    "    if (episode+1) % 50 == 0:\n",
    "        print(f'Episode ({episode+1}/{episodes_num})')\n",
    "\n",
    "for episode in range(episodes_num):\n",
    "    optimal_action_percent[episode] = selected_actions[episode] == optimal_actions[episode]\n",
    "    \n",
    "reward_average = received_rewards.mean(axis=0)\n",
    "optimal_action_percent = optimal_action_percent.mean(axis=0)\n",
    "\n",
    "\n",
    "fig, axs = plt.subplots(2, 1, figsize=(15, 15))\n",
    "axs[0].plot(reward_average, linewidth=3)\n",
    "axs[0].set_xlabel('Time Step', fontsize=14, fontweight='bold')\n",
    "axs[0].set_ylabel('Rewards', fontsize=14, fontweight='bold')\n",
    "axs[0].set_title('e-Greedy Average Rewards', fontsize=15, fontweight='bold')\n",
    "\n",
    "axs[1].plot(optimal_action_percent, linewidth=3)\n",
    "axs[1].set_xlabel('Time Step', fontsize=14, fontweight='bold')\n",
    "axs[1].set_ylabel('OAP', fontsize=14, fontweight='bold')\n",
    "axs[1].set_title('e-Greedy Optimal Selected Actions', fontsize=15, fontweight='bold')"
   ]
  }
 ],
 "metadata": {
  "kernelspec": {
   "display_name": "Python 3 (ipykernel)",
   "language": "python",
   "name": "python3"
  },
  "language_info": {
   "codemirror_mode": {
    "name": "ipython",
    "version": 3
   },
   "file_extension": ".py",
   "mimetype": "text/x-python",
   "name": "python",
   "nbconvert_exporter": "python",
   "pygments_lexer": "ipython3",
   "version": "3.9.12"
  }
 },
 "nbformat": 4,
 "nbformat_minor": 5
}
